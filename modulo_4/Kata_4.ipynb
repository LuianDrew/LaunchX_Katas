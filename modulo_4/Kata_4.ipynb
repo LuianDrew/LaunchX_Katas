{
 "cells": [
  {
   "cell_type": "markdown",
   "metadata": {},
   "source": [
    "# Kata 4\n",
    "Ejercicios con cadenas"
   ]
  },
  {
   "cell_type": "markdown",
   "metadata": {},
   "source": [
    "### Ejercicio 1\n",
    "Hay varias operaciones que puedes realizar en las cadenas cuando las manipulamos. En este ejercicio, usarás métodos de cadena para modificar el texto con hechos sobre la Luna y luego extraerás información para crear un breve resumen. <br>\n",
    "El texto con el que trabajarás es el siguiente:"
   ]
  },
  {
   "cell_type": "code",
   "execution_count": 46,
   "metadata": {},
   "outputs": [],
   "source": [
    "text = \"\"\"Interesting facts about the Moon. The Moon is Earth's only satellite. There are several interesting facts about the Moon and how it affects life here on Earth. \n",
    "On average, the Moon moves 4cm away from the Earth every year. This yearly drift is not significant enough to cause immediate effects on Earth. The highest daylight temperature of the Moon is 127 C.\"\"\"\n"
   ]
  },
  {
   "cell_type": "code",
   "execution_count": 9,
   "metadata": {},
   "outputs": [
    {
     "data": {
      "text/plain": [
       "['Interesting facts about the Moon',\n",
       " \" The Moon is Earth's only satellite\",\n",
       " ' There are several interesting facts about the Moon and how it affects life here on Earth',\n",
       " ' \\nOn average, the Moon moves 4cm away from the Earth every year',\n",
       " ' This yearly drift is not significant enough to cause immediate effects on Earth',\n",
       " ' The highest daylight temperature of the Moon is 127 C',\n",
       " '']"
      ]
     },
     "execution_count": 9,
     "metadata": {},
     "output_type": "execute_result"
    }
   ],
   "source": [
    "#Primero, divide el texto en cada oración para trabajar con su contenido:\n",
    "text_partes = text.split('.')\n",
    "text_partes"
   ]
  },
  {
   "cell_type": "code",
   "execution_count": 10,
   "metadata": {},
   "outputs": [
    {
     "name": "stdout",
     "output_type": "stream",
     "text": [
      " \n",
      "On average, the Moon moves 4cm away from the Earth every year\n",
      " The highest daylight temperature of the Moon is 127 C\n"
     ]
    }
   ],
   "source": [
    "#Ahora, define algunas palabras clave para búsqueda que te ayudarán a determinar si una oración contiene un hecho.\n",
    "# Define las palabras pista: average, temperature y distance suenan bien\n",
    "palabras_clave = [\"average\", \"temperature\", \"distance\"]\n",
    "\n",
    "#Cree un bucle para imprimir solo datos sobre la Luna que estén relacionados con las palabras clave definidas anteriormente:\n",
    "# Ciclo for para recorrer la cadena\n",
    "for sentencia in text_partes:\n",
    "    for palabra_clave in palabras_clave:\n",
    "        if palabra_clave in sentencia:\n",
    "            print(sentencia)"
   ]
  },
  {
   "cell_type": "code",
   "execution_count": 12,
   "metadata": {},
   "outputs": [
    {
     "name": "stdout",
     "output_type": "stream",
     "text": [
      " \n",
      "On average, the Moon moves 4cm away from the Earth every year\n",
      " The highest daylight temperature of the Moon is 127 Celsius\n"
     ]
    }
   ],
   "source": [
    "#Finalmente, actualiza el bucle(ciclo) para cambiar C a Celsius:\n",
    "# Ciclo para cambiar C a Celsius\n",
    "for sentencia in text_partes:\n",
    "    for palabra_clave in palabras_clave:\n",
    "        if palabra_clave in sentencia:\n",
    "            print(sentencia.replace('C', 'Celsius'))\n",
    "\n"
   ]
  },
  {
   "cell_type": "markdown",
   "metadata": {},
   "source": [
    "### Ejercicio 2: Formateando cadenas\n",
    "Saber cómo dar formato a las cadenas es esencial cuando se presenta información de un programa. Hay algunas maneras diferentes de lograr esto en Python. En este ejercicio, se utilizan variables que contienen datos clave sobre la gravedad en varias lunas y luego se utilizan para dar formato e imprimir la información.\n",
    "\n",
    "El formato tiene que acomodar información sobre otras lunas, por lo que debe ser genérico.\n",
    "\n",
    "En lugar de reemplazar las variables en una cadena larga como parte de un párrafo, utiliza la información para presentarla en un formato tabular. El resultado debería verse así:\n",
    "\n",
    "Gravity Facts about Ganymede\n",
    "-------------------------------------------------------------------------------\n",
    "Planet Name: Mars\n",
    "Gravity on Ganymede: 1.4300000000000002 m/s2"
   ]
  },
  {
   "cell_type": "code",
   "execution_count": 38,
   "metadata": {},
   "outputs": [
    {
     "name": "stdout",
     "output_type": "stream",
     "text": [
      "Difference between into the gravity of Earth and Moon\n"
     ]
    }
   ],
   "source": [
    "# Datos con los que vas a trabajar\n",
    "name = \"Moon\"\n",
    "gravity = 0.00162 # in kms\n",
    "planet = \"Earth\"\n",
    "#Primero, crea un título para el texto. Debido a que este texto trata sobre la gravedad en la Tierra y la Luna, \n",
    "# úsalo para crear un título significativo. Utiliza las variables en lugar de escribir.\n",
    "titulo = f\"Difference between into the gravity of {planet} and {name}\"\n",
    "print(titulo)"
   ]
  },
  {
   "cell_type": "code",
   "execution_count": 37,
   "metadata": {},
   "outputs": [
    {
     "name": "stdout",
     "output_type": "stream",
     "text": [
      "\n",
      "                The planet: Earth have a such difference  gravity to the Moon, \n",
      "                We can se that gravity on: Moon is: 1.6199999999999999 m/s2\n",
      "                \n"
     ]
    }
   ],
   "source": [
    "#Ahora crea una plantilla de cadena multilínea para contener el resto de la información. \n",
    "# En lugar de usar kilómetros, debes convertir la distancia a metros multiplicando por 1,000.\n",
    "\n",
    "desarrollo = f\"\"\"\n",
    "                The planet: {planet} have a such difference  gravity to the {name}, \n",
    "                We can se that gravity on: {name} is: {gravity*1000} m/s2\n",
    "                \"\"\" \n",
    "print(desarrollo)"
   ]
  },
  {
   "cell_type": "code",
   "execution_count": 43,
   "metadata": {},
   "outputs": [
    {
     "name": "stdout",
     "output_type": "stream",
     "text": [
      "Difference Between Into The Gravity Of Earth And Moon\n",
      "        \n",
      "                The planet: Earth have a such difference  gravity to the Moon, \n",
      "                We can se that gravity on: Moon is: 1.6199999999999999 m/s2\n",
      "                \n",
      "        \n"
     ]
    }
   ],
   "source": [
    "#Finalmente, usa ambas variables para unir el título y los hechos.\n",
    "# Unión de ambas cadenas\n",
    "nota = f\"\"\"{titulo.title()}\n",
    "        {desarrollo}\n",
    "        \"\"\"\n",
    "print(nota)"
   ]
  },
  {
   "cell_type": "code",
   "execution_count": 51,
   "metadata": {},
   "outputs": [
    {
     "name": "stdout",
     "output_type": "stream",
     "text": [
      "Difference Between Into The Gravity Of Earth And Moon\n",
      "        \n",
      "                The planet: Earth have a such difference  gravity to the Moon, \n",
      "                We can se that gravity on: Moon is: 1.6199999999999999 m/s2\n",
      "                \n",
      "        \n"
     ]
    }
   ],
   "source": [
    "#Ahora usa información de una luna diferente para ver si la plantilla todavía funciona.\n",
    "\n",
    "#Datos muestra:\n",
    "\n",
    "planet = 'Marte '\n",
    "gravity  = 0.00143\n",
    "name = 'Ganímedes'\n",
    "# Comprueba la plantilla\n",
    "# print(nombre_plantilla)\n",
    "print(nota)\n",
    "#La salida no muestra información sobre Marte. Todavía muestra información sobre la Luna. \n",
    "# Esto sucede porque las cadenas f están ansiosas en su evaluación, por lo que las variables una vez asignadas no se pueden reasignar. \n",
    "# Para evitar este problema, vuelva a hacer la plantilla para utilizar .format():\n",
    "\n"
   ]
  },
  {
   "cell_type": "code",
   "execution_count": 52,
   "metadata": {},
   "outputs": [
    {
     "name": "stdout",
     "output_type": "stream",
     "text": [
      "\n",
      "            The planet Marte  have a such difference gravity to the Ganímedes, \n",
      "            We can se that gravity on: Ganímedes is: 0.00143 m/s2\n",
      "            \n"
     ]
    }
   ],
   "source": [
    "nueva_nota = f\"\"\"\n",
    "            The planet {planet} have a such difference gravity to the {name}, \n",
    "            We can se that gravity on: {name} is: {gravity} m/s2\n",
    "            \"\"\"\n",
    "           \n",
    "# Nueva plantilla\n",
    "#Debido a que .format() no permite expresiones, la gravedad en Ganímedes es incorrecta. \n",
    "# Asegúrese de que la operación se realiza fuera de la plantilla de formato e imprima de nuevo para ver el resultado de trabajo.\n",
    "\n",
    "# Pista: print(nueva_plantilla.format(variables))\n",
    "print(nueva_nota.format(name = name, planet = planet, gravity = gravity))"
   ]
  },
  {
   "cell_type": "code",
   "execution_count": null,
   "metadata": {},
   "outputs": [],
   "source": []
  }
 ],
 "metadata": {
  "interpreter": {
   "hash": "7f9540e84c890a6dec034468fc45dc7fff1d6823dc1228b16b8363ae06a91fee"
  },
  "kernelspec": {
   "display_name": "Python 3.10.2 ('env': venv)",
   "language": "python",
   "name": "python3"
  },
  "language_info": {
   "codemirror_mode": {
    "name": "ipython",
    "version": 3
   },
   "file_extension": ".py",
   "mimetype": "text/x-python",
   "name": "python",
   "nbconvert_exporter": "python",
   "pygments_lexer": "ipython3",
   "version": "3.10.2"
  },
  "orig_nbformat": 4
 },
 "nbformat": 4,
 "nbformat_minor": 2
}
